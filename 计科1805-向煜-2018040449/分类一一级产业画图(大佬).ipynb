{
 "cells": [
  {
   "cell_type": "code",
   "execution_count": 1,
   "id": "971bdef6",
   "metadata": {},
   "outputs": [],
   "source": [
    "import pandas as pd"
   ]
  },
  {
   "cell_type": "code",
   "execution_count": 2,
   "id": "3e9de14c",
   "metadata": {},
   "outputs": [],
   "source": [
    "import matplotlib.pyplot as plt"
   ]
  },
  {
   "cell_type": "code",
   "execution_count": 3,
   "id": "7989d345",
   "metadata": {},
   "outputs": [],
   "source": [
    "import itertools "
   ]
  },
  {
   "cell_type": "code",
   "execution_count": 4,
   "id": "a7e12023",
   "metadata": {},
   "outputs": [],
   "source": [
    "from pylab import *\n",
    "mpl.rcParams['font.sans-serif'] = ['SimHei']"
   ]
  },
  {
   "cell_type": "code",
   "execution_count": 5,
   "id": "79399fe1",
   "metadata": {},
   "outputs": [
    {
     "name": "stdout",
     "output_type": "stream",
     "text": [
      "      Unnamed: 0                      投资机构 是否大佬\n",
      "0              0                 Aurinvest    否\n",
      "1              1              Domain Elite    否\n",
      "2              2  Scottish Equity Partners    否\n",
      "3              3                 StartupCV    否\n",
      "4              4                       SRF    否\n",
      "...          ...                       ...  ...\n",
      "4040        7717               中大资本服务业研究中心    否\n",
      "4041        7719            Vulcan Capital    否\n",
      "4042        7755                     时代丰投资    否\n",
      "4043        7777                      德诚资本    否\n",
      "4044        7850                      坤鼎投资    否\n",
      "\n",
      "[4045 rows x 3 columns]\n"
     ]
    }
   ],
   "source": [
    "kinds_df = pd.read_excel('D:\\data\\data\\leader and common.xlsx')\n",
    "print(kinds_df)"
   ]
  },
  {
   "cell_type": "code",
   "execution_count": 6,
   "id": "f291afb7",
   "metadata": {
    "scrolled": false
   },
   "outputs": [
    {
     "data": {
      "text/html": [
       "<div>\n",
       "<style scoped>\n",
       "    .dataframe tbody tr th:only-of-type {\n",
       "        vertical-align: middle;\n",
       "    }\n",
       "\n",
       "    .dataframe tbody tr th {\n",
       "        vertical-align: top;\n",
       "    }\n",
       "\n",
       "    .dataframe thead th {\n",
       "        text-align: right;\n",
       "    }\n",
       "</style>\n",
       "<table border=\"1\" class=\"dataframe\">\n",
       "  <thead>\n",
       "    <tr style=\"text-align: right;\">\n",
       "      <th></th>\n",
       "      <th>机构名称</th>\n",
       "      <th>投资时间</th>\n",
       "      <th>二级代码</th>\n",
       "      <th>二级名称</th>\n",
       "      <th>一级字母代码</th>\n",
       "      <th>一级名称</th>\n",
       "    </tr>\n",
       "  </thead>\n",
       "  <tbody>\n",
       "    <tr>\n",
       "      <th>0</th>\n",
       "      <td>中科招</td>\n",
       "      <td>1991</td>\n",
       "      <td>38</td>\n",
       "      <td>电气机械和器材制造业</td>\n",
       "      <td>C</td>\n",
       "      <td>制造业</td>\n",
       "    </tr>\n",
       "    <tr>\n",
       "      <th>1</th>\n",
       "      <td>浙科投资</td>\n",
       "      <td>1992</td>\n",
       "      <td>67</td>\n",
       "      <td>资本市场服务</td>\n",
       "      <td>J</td>\n",
       "      <td>金融业</td>\n",
       "    </tr>\n",
       "    <tr>\n",
       "      <th>2</th>\n",
       "      <td>中科招</td>\n",
       "      <td>1992</td>\n",
       "      <td>27</td>\n",
       "      <td>医药制造业</td>\n",
       "      <td>C</td>\n",
       "      <td>制造业</td>\n",
       "    </tr>\n",
       "    <tr>\n",
       "      <th>3</th>\n",
       "      <td>晨兴集团</td>\n",
       "      <td>1993</td>\n",
       "      <td>38</td>\n",
       "      <td>电气机械和器材制造业</td>\n",
       "      <td>C</td>\n",
       "      <td>制造业</td>\n",
       "    </tr>\n",
       "    <tr>\n",
       "      <th>4</th>\n",
       "      <td>摩根士丹利</td>\n",
       "      <td>1993</td>\n",
       "      <td>51</td>\n",
       "      <td>批发业</td>\n",
       "      <td>F</td>\n",
       "      <td>批发和零售业</td>\n",
       "    </tr>\n",
       "    <tr>\n",
       "      <th>...</th>\n",
       "      <td>...</td>\n",
       "      <td>...</td>\n",
       "      <td>...</td>\n",
       "      <td>...</td>\n",
       "      <td>...</td>\n",
       "      <td>...</td>\n",
       "    </tr>\n",
       "    <tr>\n",
       "      <th>31724</th>\n",
       "      <td>红杉</td>\n",
       "      <td>2015</td>\n",
       "      <td>72</td>\n",
       "      <td>商务服务业</td>\n",
       "      <td>L</td>\n",
       "      <td>租赁和商务服务业</td>\n",
       "    </tr>\n",
       "    <tr>\n",
       "      <th>31725</th>\n",
       "      <td>数字天空技术</td>\n",
       "      <td>2015</td>\n",
       "      <td>72</td>\n",
       "      <td>商务服务业</td>\n",
       "      <td>L</td>\n",
       "      <td>租赁和商务服务业</td>\n",
       "    </tr>\n",
       "    <tr>\n",
       "      <th>31727</th>\n",
       "      <td>华卓投资</td>\n",
       "      <td>2015</td>\n",
       "      <td>64</td>\n",
       "      <td>互联网和相关服务</td>\n",
       "      <td>I</td>\n",
       "      <td>信息传输、软件和信息技术服务业</td>\n",
       "    </tr>\n",
       "    <tr>\n",
       "      <th>31728</th>\n",
       "      <td>海融投资</td>\n",
       "      <td>2015</td>\n",
       "      <td>27</td>\n",
       "      <td>医药制造业</td>\n",
       "      <td>C</td>\n",
       "      <td>制造业</td>\n",
       "    </tr>\n",
       "    <tr>\n",
       "      <th>31729</th>\n",
       "      <td>达晨创投</td>\n",
       "      <td>2015</td>\n",
       "      <td>39</td>\n",
       "      <td>计算机、通信和其他电子设备制造业</td>\n",
       "      <td>C</td>\n",
       "      <td>制造业</td>\n",
       "    </tr>\n",
       "  </tbody>\n",
       "</table>\n",
       "<p>30054 rows × 6 columns</p>\n",
       "</div>"
      ],
      "text/plain": [
       "         机构名称  投资时间 二级代码              二级名称 一级字母代码             一级名称\n",
       "0         中科招  1991   38        电气机械和器材制造业      C              制造业\n",
       "1        浙科投资  1992   67            资本市场服务      J              金融业\n",
       "2         中科招  1992   27            医药制造业       C              制造业\n",
       "3        晨兴集团  1993   38        电气机械和器材制造业      C              制造业\n",
       "4       摩根士丹利  1993   51              批发业       F           批发和零售业\n",
       "...       ...   ...  ...               ...    ...              ...\n",
       "31724      红杉  2015   72             商务服务业      L        租赁和商务服务业 \n",
       "31725  数字天空技术  2015   72             商务服务业      L        租赁和商务服务业 \n",
       "31727    华卓投资  2015   64          互联网和相关服务      I  信息传输、软件和信息技术服务业\n",
       "31728    海融投资  2015   27            医药制造业       C              制造业\n",
       "31729    达晨创投  2015   39  计算机、通信和其他电子设备制造业      C              制造业\n",
       "\n",
       "[30054 rows x 6 columns]"
      ]
     },
     "execution_count": 6,
     "metadata": {},
     "output_type": "execute_result"
    }
   ],
   "source": [
    "invest_df = pd.read_excel('D:\\data\\data\\investments_clear3(1).xlsx',index_col=0)\n",
    "invest_df"
   ]
  },
  {
   "cell_type": "code",
   "execution_count": 7,
   "id": "64922da2",
   "metadata": {
    "scrolled": false
   },
   "outputs": [
    {
     "data": {
      "text/plain": [
       "<matplotlib.legend.Legend at 0x1afa41ae340>"
      ]
     },
     "execution_count": 7,
     "metadata": {},
     "output_type": "execute_result"
    },
    {
     "data": {
      "image/png": "[encoded data removed]",
      "text/plain": [
       "<Figure size 432x288 with 1 Axes>"
      ]
     },
     "metadata": {
      "needs_background": "light"
     },
     "output_type": "display_data"
    }
   ],
   "source": [
    "first_1 = {}#某个第一产业一共有多少大佬\n",
    "first_2 = {}#某个第一产业一共有多少个普通\n",
    "second_1 = {}\n",
    "second_2 = {}\n",
    "tick_1 = {}#第一产业字母对应名称\n",
    "tick_2 = {}#第二产业数字对应名称\n",
    "for i in invest_df.itertuples():\n",
    "    invester = getattr(i,'机构名称')\n",
    "    first = getattr(i,'一级字母代码')\n",
    "    second = getattr(i,'二级代码')\n",
    "    now = list(kinds_df.是否大佬[kinds_df.投资机构 == invester])\n",
    "    tick_1[first] = getattr(i,'一级名称')\n",
    "    tick_2[second] = getattr(i,'二级名称')\n",
    "#    print(now)\n",
    "    if list(kinds_df.是否大佬[kinds_df.投资机构 == invester])[0] == '是':\n",
    "        if first not in first_1.keys():\n",
    "            first_1[first] = 1.0\n",
    "        else:\n",
    "            first_1[first] += 1\n",
    "        if second not in second_1.keys():\n",
    "            second_1[second] = 1.0\n",
    "        else:\n",
    "            second_1[second] += 1\n",
    "    else:\n",
    "        if first not in first_2.keys():\n",
    "            first_2[first] = 1.0\n",
    "        else:\n",
    "            first_2[first] += 1\n",
    "        if second not in second_2.keys():\n",
    "            second_2[second] = 1.0\n",
    "        else:\n",
    "            second_2[second] += 1\n",
    "#全部一级产业\n",
    "first_1 = sorted(first_1.items(),key = lambda kv:(kv[1],kv[0]))#按照value值排序\n",
    "coor_y = 0.5\n",
    "draw_y = []#y轴工业名称\n",
    "number_y = []#需要替换的y坐标\n",
    "height = 0.85#柱子宽度\n",
    "for items in range(len(first_1)):\n",
    "    industry = first_1[items][0]\n",
    "    quantity_1 = first_1[items][1]\n",
    "    quantity_2 = first_2[industry]\n",
    "    if items == 0:\n",
    "        plt.barh(y = coor_y + height/2,width = quantity_1,color = '#333399',height = height,label = '大佬')\n",
    "        plt.barh(y = coor_y - height/2,width = quantity_2, color='#FF6600',height = height,label = '普通')\n",
    "    else:\n",
    "        plt.barh(y=coor_y + height / 2, width=quantity_1, color='#333399', height=height)\n",
    "        plt.barh(y=coor_y - height / 2, width=quantity_2, color='#FF6600', height=height)\n",
    "    draw_y.append(tick_1[industry])\n",
    "    number_y.append(coor_y)\n",
    "    coor_y += 2.3\n",
    "plt.yticks(number_y,draw_y)\n",
    "plt.xlabel('机构数量',size = 16)\n",
    "plt.ylabel('一级名称',size = 16)\n",
    "plt.title('投资机构投资一级产业',size = 19)\n",
    "plt.legend()"
   ]
  },
  {
   "cell_type": "code",
   "execution_count": null,
   "id": "ca165d23",
   "metadata": {},
   "outputs": [],
   "source": [
    "plt.figure(figsize= (300,800))\n",
    "second_1 = sorted(second_1.items(),key = lambda kv:(kv[1],kv[0]))#按照value值排序\n",
    "coor_y = 0.5\n",
    "draw_y = []#y轴工业名称\n",
    "number_y = []#需要替换的y坐标\n",
    "height = 1#柱子宽度\n",
    "\n",
    "for items in range(len(second_1)):\n",
    "    industry = second_1[items][0]\n",
    "    quantity_1 = second_1[items][1]\n",
    "    plt.barh(y = coor_y,width = quantity_1,color = '#333399',height = height)\n",
    "    #plt.barh(y = coor_y - height/2,width = quantity_2, color='#FF6600',height = height,label = '失败风投机构')\n",
    "    draw_y.append(tick_2[industry])\n",
    "    number_y.append(coor_y)\n",
    "    coor_y += 2\n",
    "    \n",
    "plt.yticks(number_y,draw_y)\n",
    "plt.xlabel('机构数量',size = 11)\n",
    "plt.ylabel('二级名称',size = 11)\n",
    "plt.title('elite投资机构投资二级产业',size = 14)\n",
    "plt.yticks(fontsize=7)\n",
    "#plt.legend(frameon=False)\n",
    "plt.show()\n",
    "plt.savefig('my.png')"
   ]
  },
  {
   "cell_type": "code",
   "execution_count": null,
   "id": "b98d9dfa",
   "metadata": {},
   "outputs": [],
   "source": []
  }
 ],
 "metadata": {
  "kernelspec": {
   "display_name": "Python 3",
   "language": "python",
   "name": "python3"
  },
  "language_info": {
   "codemirror_mode": {
    "name": "ipython",
    "version": 3
   },
   "file_extension": ".py",
   "mimetype": "text/x-python",
   "name": "python",
   "nbconvert_exporter": "python",
   "pygments_lexer": "ipython3",
   "version": "3.8.8"
  }
 },
 "nbformat": 4,
 "nbformat_minor": 5
}
